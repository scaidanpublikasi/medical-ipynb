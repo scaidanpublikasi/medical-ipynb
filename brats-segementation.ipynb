{
 "cells": [
  {
   "cell_type": "code",
   "execution_count": null,
   "id": "e0153dc4",
   "metadata": {
    "execution": {
     "iopub.execute_input": "2025-07-30T08:59:29.804809Z",
     "iopub.status.busy": "2025-07-30T08:59:29.804514Z",
     "iopub.status.idle": "2025-07-30T09:00:45.349845Z",
     "shell.execute_reply": "2025-07-30T09:00:45.349029Z"
    },
    "papermill": {
     "duration": 75.550559,
     "end_time": "2025-07-30T09:00:45.351319",
     "exception": false,
     "start_time": "2025-07-30T08:59:29.800760",
     "status": "completed"
    },
    "tags": []
   },
   "outputs": [
    {
     "ename": "",
     "evalue": "",
     "output_type": "error",
     "traceback": [
      "\u001b[1;31mRunning cells with 'Python 3.12.6' requires the ipykernel package.\n",
      "\u001b[1;31m<a href='command:jupyter.createPythonEnvAndSelectController'>Create a Python Environment</a> with the required packages.\n",
      "\u001b[1;31mOr install 'ipykernel' using the command: 'c:/Users/lenovo/AppData/Local/Programs/Python/Python312/python.exe -m pip install ipykernel -U --user --force-reinstall'"
     ]
    }
   ],
   "source": [
    "!pip install monai"
   ]
  },
  {
   "cell_type": "code",
   "execution_count": null,
   "id": "3c07f1d7",
   "metadata": {
    "execution": {
     "iopub.execute_input": "2025-07-30T09:00:45.397840Z",
     "iopub.status.busy": "2025-07-30T09:00:45.397519Z",
     "iopub.status.idle": "2025-07-30T09:01:19.013351Z",
     "shell.execute_reply": "2025-07-30T09:01:19.012755Z"
    },
    "papermill": {
     "duration": 33.640573,
     "end_time": "2025-07-30T09:01:19.014739",
     "exception": false,
     "start_time": "2025-07-30T09:00:45.374166",
     "status": "completed"
    },
    "tags": []
   },
   "outputs": [],
   "source": [
    "import os\n",
    "import nibabel as nib\n",
    "import numpy as np\n",
    "import torch\n",
    "from torch.utils.data import DataLoader, random_split\n",
    "import torch.nn.functional as F\n",
    "from sklearn.metrics import accuracy_score, precision_score, recall_score, f1_score, jaccard_score\n",
    "from monai.transforms import (\n",
    "    Compose, LoadImaged, EnsureChannelFirstd, Orientationd,\n",
    "    ResizeWithPadOrCropd, NormalizeIntensityd, ToTensord\n",
    ")\n",
    "from monai.data import Dataset as MonaiDataset\n",
    "from monai.networks.nets import UNet\n",
    "from monai.losses import DiceCELoss\n",
    "from monai.metrics import DiceMetric\n",
    "from monai.inferers import sliding_window_inference\n",
    "import matplotlib.pyplot as plt"
   ]
  },
  {
   "cell_type": "code",
   "execution_count": null,
   "id": "665586a0",
   "metadata": {
    "execution": {
     "iopub.execute_input": "2025-07-30T09:01:19.062377Z",
     "iopub.status.busy": "2025-07-30T09:01:19.061237Z",
     "iopub.status.idle": "2025-07-30T09:01:20.128293Z",
     "shell.execute_reply": "2025-07-30T09:01:20.127446Z"
    },
    "papermill": {
     "duration": 1.091882,
     "end_time": "2025-07-30T09:01:20.129559",
     "exception": false,
     "start_time": "2025-07-30T09:01:19.037677",
     "status": "completed"
    },
    "tags": []
   },
   "outputs": [],
   "source": [
    "image_dir = \"/kaggle/input/costa-adam/imagesTr\"\n",
    "label_dir = \"/kaggle/input/costa-adam/labelsTr\"\n",
    "test_dir  = \"/kaggle/input/costa-adam/imagesTs\"\n",
    "label_test_dir = \"/kaggle/input/costa-adam/labelsTs\"\n",
    "\n",
    "image_paths = []\n",
    "label_paths = []\n",
    "\n",
    "for root, _, files in os.walk(image_dir):\n",
    "    for file in files:\n",
    "        if file.endswith(\".nii\") or file.endswith(\".nii.gz\"):\n",
    "            image_paths.append(os.path.join(root, file))\n",
    "\n",
    "for root, _, files in os.walk(label_dir):\n",
    "    for file in files:\n",
    "        if file.endswith(\".nii\") or file.endswith(\".nii.gz\"):\n",
    "            label_paths.append(os.path.join(root, file))\n",
    "\n",
    "image_paths.sort()\n",
    "label_paths.sort()\n",
    "\n",
    "print(f\"Jumlah file image: {len(image_paths)}\")\n",
    "print(f\"Jumlah file label: {len(label_paths)}\")"
   ]
  },
  {
   "cell_type": "code",
   "execution_count": null,
   "id": "67388d8e",
   "metadata": {
    "execution": {
     "iopub.execute_input": "2025-07-30T09:01:20.175622Z",
     "iopub.status.busy": "2025-07-30T09:01:20.175045Z",
     "iopub.status.idle": "2025-07-30T09:01:20.196584Z",
     "shell.execute_reply": "2025-07-30T09:01:20.195855Z"
    },
    "papermill": {
     "duration": 0.045969,
     "end_time": "2025-07-30T09:01:20.197921",
     "exception": false,
     "start_time": "2025-07-30T09:01:20.151952",
     "status": "completed"
    },
    "tags": []
   },
   "outputs": [],
   "source": [
    "test_paths = sorted([\n",
    "    os.path.join(test_dir, f) for f in os.listdir(test_dir)\n",
    "    if f.endswith(\".nii\") or f.endswith(\".nii.gz\")\n",
    "])\n",
    "label_test_paths = sorted([\n",
    "    os.path.join(label_test_dir, f) for f in os.listdir(label_test_dir)\n",
    "    if f.endswith(\".nii\") or f.endswith(\".nii.gz\")\n",
    "])\n",
    "\n",
    "print(f\"\\nJumlah data test: {len(test_paths)}\")\n",
    "print(f\"\\nJumlah data test: {len(label_test_paths)}\")"
   ]
  },
  {
   "cell_type": "code",
   "execution_count": null,
   "id": "21baf9e3",
   "metadata": {
    "execution": {
     "iopub.execute_input": "2025-07-30T09:01:20.243284Z",
     "iopub.status.busy": "2025-07-30T09:01:20.242696Z",
     "iopub.status.idle": "2025-07-30T09:01:20.249447Z",
     "shell.execute_reply": "2025-07-30T09:01:20.248945Z"
    },
    "papermill": {
     "duration": 0.03062,
     "end_time": "2025-07-30T09:01:20.250527",
     "exception": false,
     "start_time": "2025-07-30T09:01:20.219907",
     "status": "completed"
    },
    "tags": []
   },
   "outputs": [],
   "source": [
    "input_size = (128, 128, 128)\n",
    "train_transforms = Compose([\n",
    "    LoadImaged(keys=[\"image\", \"label\"]),\n",
    "    EnsureChannelFirstd(keys=[\"image\", \"label\"]),\n",
    "    Orientationd(keys=[\"image\", \"label\"], axcodes=\"RAS\"),\n",
    "    ResizeWithPadOrCropd(keys=[\"image\", \"label\"], spatial_size=input_size),\n",
    "    NormalizeIntensityd(keys=\"image\"),\n",
    "    ToTensord(keys=[\"image\", \"label\"])\n",
    "])"
   ]
  },
  {
   "cell_type": "code",
   "execution_count": null,
   "id": "798bf1f6",
   "metadata": {
    "execution": {
     "iopub.execute_input": "2025-07-30T09:01:20.295618Z",
     "iopub.status.busy": "2025-07-30T09:01:20.295091Z",
     "iopub.status.idle": "2025-07-30T09:01:20.301241Z",
     "shell.execute_reply": "2025-07-30T09:01:20.300742Z"
    },
    "papermill": {
     "duration": 0.029476,
     "end_time": "2025-07-30T09:01:20.302237",
     "exception": false,
     "start_time": "2025-07-30T09:01:20.272761",
     "status": "completed"
    },
    "tags": []
   },
   "outputs": [],
   "source": [
    "data_dicts = [{\"image\": img, \"label\": lbl} for img, lbl in zip(image_paths, label_paths)]\n",
    "train_len = int(0.8 * len(data_dicts))\n",
    "val_len = len(data_dicts) - train_len\n",
    "train_files, val_files = random_split(data_dicts, [train_len, val_len])\n",
    "\n",
    "train_ds = MonaiDataset(train_files, transform=train_transforms)\n",
    "val_ds = MonaiDataset(val_files, transform=train_transforms)\n",
    "train_loader = DataLoader(train_ds, batch_size=1, shuffle=True)\n",
    "val_loader = DataLoader(val_ds, batch_size=1)"
   ]
  },
  {
   "cell_type": "code",
   "execution_count": null,
   "id": "3aa19a7b",
   "metadata": {
    "execution": {
     "iopub.execute_input": "2025-07-30T09:01:20.393033Z",
     "iopub.status.busy": "2025-07-30T09:01:20.392779Z",
     "iopub.status.idle": "2025-07-30T09:01:20.739382Z",
     "shell.execute_reply": "2025-07-30T09:01:20.738747Z"
    },
    "papermill": {
     "duration": 0.370242,
     "end_time": "2025-07-30T09:01:20.740628",
     "exception": false,
     "start_time": "2025-07-30T09:01:20.370386",
     "status": "completed"
    },
    "tags": []
   },
   "outputs": [],
   "source": [
    "device = torch.device(\"cuda\" if torch.cuda.is_available() else \"cpu\")\n",
    "model = UNet(\n",
    "    spatial_dims=3, in_channels=1, out_channels=1,\n",
    "    channels=(32, 64, 128, 256, 512),\n",
    "    strides=(2, 2, 2, 2), num_res_units=2\n",
    ").to(device)\n",
    "\n",
    "loss_fn = DiceCELoss(sigmoid=True)\n",
    "optimizer = torch.optim.Adam(model.parameters(), lr=1e-4)\n",
    "best_loss, patience, trigger = float('inf'), 5, 0\n",
    "train_losses = []\n",
    "val_losses = []"
   ]
  },
  {
   "cell_type": "code",
   "execution_count": null,
   "id": "dc8b996a",
   "metadata": {
    "execution": {
     "iopub.execute_input": "2025-07-30T09:01:20.796299Z",
     "iopub.status.busy": "2025-07-30T09:01:20.796012Z",
     "iopub.status.idle": "2025-07-30T11:31:44.906207Z",
     "shell.execute_reply": "2025-07-30T11:31:44.904202Z"
    },
    "papermill": {
     "duration": 9024.163508,
     "end_time": "2025-07-30T11:31:44.934350",
     "exception": false,
     "start_time": "2025-07-30T09:01:20.770842",
     "status": "completed"
    },
    "tags": []
   },
   "outputs": [],
   "source": [
    "for epoch in range(1000):\n",
    "    model.train()\n",
    "    epoch_loss = 0\n",
    "    for batch in train_loader:\n",
    "        x, y = batch[\"image\"].to(device), batch[\"label\"].to(device)\n",
    "        y_pred = model(x)\n",
    "        loss = loss_fn(y_pred, y)\n",
    "        optimizer.zero_grad()\n",
    "        loss.backward()\n",
    "        optimizer.step()\n",
    "        epoch_loss += loss.item()\n",
    "\n",
    "    epoch_loss /= len(train_loader)\n",
    "    train_losses.append(epoch_loss)\n",
    "\n",
    "    val_loss = 0\n",
    "    model.eval()\n",
    "    with torch.no_grad():\n",
    "        for val_batch in val_loader:\n",
    "            val_x, val_y = val_batch[\"image\"].to(device), val_batch[\"label\"].to(device)\n",
    "            val_pred = model(val_x)\n",
    "            val_loss += loss_fn(val_pred, val_y).item()\n",
    "\n",
    "    val_loss /= len(val_loader)\n",
    "    val_losses.append(val_loss)\n",
    "\n",
    "    print(f\"Epoch {epoch+1}, Train Loss: {epoch_loss:.4f}, Val Loss: {val_loss:.4f}\")\n",
    "\n",
    "    if val_loss < best_loss:\n",
    "        best_loss = val_loss\n",
    "        trigger = 0\n",
    "        torch.save(model.state_dict(), \"/kaggle/working/model.pt\")\n",
    "    else:\n",
    "        trigger += 1\n",
    "        if trigger >= patience:\n",
    "            print(\"Early stopping.\")\n",
    "            break"
   ]
  },
  {
   "cell_type": "code",
   "execution_count": null,
   "id": "ee5e323c",
   "metadata": {
    "execution": {
     "iopub.execute_input": "2025-07-30T11:31:45.007033Z",
     "iopub.status.busy": "2025-07-30T11:31:45.006327Z",
     "iopub.status.idle": "2025-07-30T11:37:37.713438Z",
     "shell.execute_reply": "2025-07-30T11:37:37.712610Z"
    },
    "papermill": {
     "duration": 352.76301,
     "end_time": "2025-07-30T11:37:37.739416",
     "exception": false,
     "start_time": "2025-07-30T11:31:44.976406",
     "status": "completed"
    },
    "tags": []
   },
   "outputs": [],
   "source": [
    "model.load_state_dict(torch.load(\"/kaggle/working/model.pt\"))\n",
    "model.eval()\n",
    "metrics = {\"Dice\": [], \"IoU\": [], \"Accuracy\": [], \"Precision\": [], \"Recall\": [], \"F1\": []}\n",
    "\n",
    "with torch.no_grad():\n",
    "    for batch in val_loader:\n",
    "        x = batch[\"image\"].to(device)\n",
    "        y_true = batch[\"label\"].cpu().numpy().flatten()\n",
    "        y_pred = torch.sigmoid(model(x)).cpu().numpy().flatten()\n",
    "        y_bin = (y_pred > 0.5).astype(np.uint8)\n",
    "\n",
    "        metrics[\"Dice\"].append(f1_score(y_true, y_bin))\n",
    "        metrics[\"IoU\"].append(jaccard_score(y_true, y_bin))\n",
    "        metrics[\"Accuracy\"].append(accuracy_score(y_true, y_bin))\n",
    "        metrics[\"Precision\"].append(precision_score(y_true, y_bin))\n",
    "        metrics[\"Recall\"].append(recall_score(y_true, y_bin))\n",
    "        metrics[\"F1\"].append(f1_score(y_true, y_bin))\n",
    "\n",
    "print(\"\\nValidation Metrics:\")\n",
    "for k, v in metrics.items():\n",
    "    print(f\"{k}: {np.mean(v):.4f}\")"
   ]
  },
  {
   "cell_type": "code",
   "execution_count": null,
   "id": "63f8bb0e",
   "metadata": {
    "execution": {
     "iopub.execute_input": "2025-07-30T11:37:37.790937Z",
     "iopub.status.busy": "2025-07-30T11:37:37.790650Z",
     "iopub.status.idle": "2025-07-30T11:44:32.312467Z",
     "shell.execute_reply": "2025-07-30T11:44:32.311756Z"
    },
    "papermill": {
     "duration": 414.575377,
     "end_time": "2025-07-30T11:44:32.340489",
     "exception": false,
     "start_time": "2025-07-30T11:37:37.765112",
     "status": "completed"
    },
    "tags": []
   },
   "outputs": [],
   "source": [
    "test_transforms = Compose([\n",
    "    LoadImaged(keys=[\"image\", \"label\"]),\n",
    "    EnsureChannelFirstd(keys=[\"image\", \"label\"]),\n",
    "    Orientationd(keys=[\"image\", \"label\"], axcodes=\"RAS\"),\n",
    "    ResizeWithPadOrCropd(keys=[\"image\", \"label\"], spatial_size=input_size),\n",
    "    NormalizeIntensityd(keys=\"image\"),\n",
    "    ToTensord(keys=[\"image\", \"label\"])\n",
    "])\n",
    "\n",
    "test_dicts = [{\"image\": img, \"label\": lbl} for img, lbl in zip(test_paths, label_test_paths)]\n",
    "test_ds = MonaiDataset(test_dicts, transform=test_transforms)\n",
    "test_loader = DataLoader(test_ds, batch_size=1)\n",
    "\n",
    "os.makedirs(\"/kaggle/working/predictions\", exist_ok=True)\n",
    "test_metrics = {\"Dice\": [], \"IoU\": [], \"Accuracy\": [], \"Precision\": [], \"Recall\": [], \"F1\": []}\n",
    "\n",
    "for i, test_batch in enumerate(test_loader):\n",
    "    x = test_batch[\"image\"].to(device)\n",
    "    y_true = test_batch[\"label\"].cpu().numpy().flatten()\n",
    "\n",
    "    with torch.no_grad():\n",
    "        pred = sliding_window_inference(x, roi_size=input_size, sw_batch_size=1, predictor=model)\n",
    "        pred_np = torch.sigmoid(pred).cpu().numpy()[0, 0]\n",
    "        pred_bin = (pred_np > 0.5).astype(np.uint8)\n",
    "\n",
    "    # Save prediction mask\n",
    "    pred_nii = nib.Nifti1Image(pred_bin, affine=np.eye(4))\n",
    "    nib.save(pred_nii, f\"/kaggle/working/predictions/prediction_{i}.nii.gz\")\n",
    "\n",
    "    y_pred_flat = pred_bin.flatten()\n",
    "    test_metrics[\"Dice\"].append(f1_score(y_true, y_pred_flat))\n",
    "    test_metrics[\"IoU\"].append(jaccard_score(y_true, y_pred_flat))\n",
    "    test_metrics[\"Accuracy\"].append(accuracy_score(y_true, y_pred_flat))\n",
    "    test_metrics[\"Precision\"].append(precision_score(y_true, y_pred_flat))\n",
    "    test_metrics[\"Recall\"].append(recall_score(y_true, y_pred_flat))\n",
    "    test_metrics[\"F1\"].append(f1_score(y_true, y_pred_flat))\n",
    "\n",
    "# Print test metrics\n",
    "print(\"\\nTest Metrics:\")\n",
    "for k, v in test_metrics.items():\n",
    "    print(f\"{k}: {np.mean(v):.4f}\")"
   ]
  },
  {
   "cell_type": "code",
   "execution_count": null,
   "id": "b50cf127",
   "metadata": {
    "execution": {
     "iopub.execute_input": "2025-07-30T11:44:32.395887Z",
     "iopub.status.busy": "2025-07-30T11:44:32.395535Z",
     "iopub.status.idle": "2025-07-30T11:44:32.719662Z",
     "shell.execute_reply": "2025-07-30T11:44:32.718928Z"
    },
    "papermill": {
     "duration": 0.352691,
     "end_time": "2025-07-30T11:44:32.720859",
     "exception": false,
     "start_time": "2025-07-30T11:44:32.368168",
     "status": "completed"
    },
    "tags": []
   },
   "outputs": [],
   "source": [
    "plt.figure(figsize=(8, 5))\n",
    "epochs = range(1, len(train_losses) + 1)\n",
    "plt.plot(epochs, train_losses, label='Train Loss', marker='o')\n",
    "plt.plot(epochs, val_losses, label='Validation Loss', marker='x')\n",
    "plt.xlabel('Epoch')\n",
    "plt.ylabel('Loss')\n",
    "plt.title('Training and Validation Loss')\n",
    "plt.legend()\n",
    "plt.grid(True)\n",
    "plt.tight_layout()\n",
    "plt.show()"
   ]
  },
  {
   "cell_type": "code",
   "execution_count": null,
   "id": "c65830c5",
   "metadata": {
    "execution": {
     "iopub.execute_input": "2025-07-30T11:44:32.774174Z",
     "iopub.status.busy": "2025-07-30T11:44:32.773936Z",
     "iopub.status.idle": "2025-07-30T11:44:34.373846Z",
     "shell.execute_reply": "2025-07-30T11:44:34.372994Z"
    },
    "papermill": {
     "duration": 1.628004,
     "end_time": "2025-07-30T11:44:34.375429",
     "exception": false,
     "start_time": "2025-07-30T11:44:32.747425",
     "status": "completed"
    },
    "tags": []
   },
   "outputs": [],
   "source": [
    "import matplotlib.pyplot as plt\n",
    "\n",
    "# Visualisasi beberapa sampel dari validation set\n",
    "model.eval()\n",
    "num_samples = 3  # jumlah volume untuk divisualisasi\n",
    "\n",
    "with torch.no_grad():\n",
    "    for i, batch in enumerate(val_loader):\n",
    "        if i >= num_samples:\n",
    "            break\n",
    "        image, label = batch[\"image\"].to(device), batch[\"label\"].to(device)\n",
    "\n",
    "        output = model(image)\n",
    "        output = torch.sigmoid(output)\n",
    "        pred = output > 0.5  # thresholding ke bentuk biner\n",
    "\n",
    "        for j in range(image.shape[0]):\n",
    "            img_np = image[j].cpu().numpy()[0]    # shape: (D, H, W)\n",
    "            label_np = label[j].cpu().numpy()[0]\n",
    "            pred_np = pred[j].cpu().numpy()[0]\n",
    "\n",
    "            # Ambil irisan tengah volume (di sumbu depth/z)\n",
    "            mid_slice = img_np.shape[0] // 2\n",
    "            img_slice = img_np[mid_slice]\n",
    "            label_slice = label_np[mid_slice]\n",
    "            pred_slice = pred_np[mid_slice]\n",
    "\n",
    "            # Visualisasi\n",
    "            plt.figure(figsize=(12, 4))\n",
    "            plt.subplot(1, 3, 1)\n",
    "            plt.imshow(img_slice, cmap='gray')\n",
    "            plt.title(\"Image (slice tengah)\")\n",
    "            plt.axis(\"off\")\n",
    "\n",
    "            plt.subplot(1, 3, 2)\n",
    "            plt.imshow(label_slice, cmap='gray')\n",
    "            plt.title(\"Ground Truth\")\n",
    "            plt.axis(\"off\")\n",
    "\n",
    "            plt.subplot(1, 3, 3)\n",
    "            plt.imshow(pred_slice, cmap='gray')\n",
    "            plt.title(\"Prediction\")\n",
    "            plt.axis(\"off\")\n",
    "\n",
    "            plt.tight_layout()\n",
    "            plt.show()"
   ]
  }
 ],
 "metadata": {
  "kaggle": {
   "accelerator": "gpu",
   "dataSources": [
    {
     "datasetId": 7963140,
     "sourceId": 12617633,
     "sourceType": "datasetVersion"
    }
   ],
   "dockerImageVersionId": 31090,
   "isGpuEnabled": true,
   "isInternetEnabled": true,
   "language": "python",
   "sourceType": "notebook"
  },
  "kernelspec": {
   "display_name": "Python 3",
   "language": "python",
   "name": "python3"
  },
  "language_info": {
   "codemirror_mode": {
    "name": "ipython",
    "version": 3
   },
   "file_extension": ".py",
   "mimetype": "text/x-python",
   "name": "python",
   "nbconvert_exporter": "python",
   "pygments_lexer": "ipython3",
   "version": "3.12.6"
  },
  "papermill": {
   "default_parameters": {},
   "duration": 9911.877254,
   "end_time": "2025-07-30T11:44:37.582620",
   "environment_variables": {},
   "exception": null,
   "input_path": "__notebook__.ipynb",
   "output_path": "__notebook__.ipynb",
   "parameters": {},
   "start_time": "2025-07-30T08:59:25.705366",
   "version": "2.6.0"
  }
 },
 "nbformat": 4,
 "nbformat_minor": 5
}
